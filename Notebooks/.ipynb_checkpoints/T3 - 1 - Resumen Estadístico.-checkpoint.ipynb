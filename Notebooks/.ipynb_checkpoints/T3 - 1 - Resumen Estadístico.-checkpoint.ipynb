{
 "cells": [
  {
   "cell_type": "markdown",
   "metadata": {},
   "source": [
    "## Resumen Estadístico Básico\n",
    "#### Moda, Quantiles, CV, Coeficiente de asimetria y curtosis\n",
    "\n",
    "* Medidas de Centralización\n",
    "    * Media Aritmetica - Sumamos todos los valores y los dividimos por el numero de estas.\n",
    "    * Mediana - Si colocamos todos los valores en orden creciente, la mediana es el valor que hay justo en el centro, con un error de 0.5. En el caso de que sean dos números los que queden en el centro la mediana es la Media Aritmetica de estos dos números.\n",
    "    * Moda - Es el valor que más aparece.\n",
    "    * Percentiles - El percentil es lo mismo que la Mediana pero en este caso te permite calcular no solo el del medio, si no cualquiera de ellos. Para ello podemos usar los Quantiles que nos dicen que valor es el minimo, máximo, cual está al 25, 50 y 75%\n",
    "    \n",
    "    \n",
    "* Medidas de Dispersión\n",
    "    * Varianza Muestral - La varianza siempre será positivo, es lo que se diferencia de la media aritmetica.\n",
    "    * Desviación típica - Nos permite obtener valores más reales a traves de la varianza.\n",
    "    * Coeficiente de variación - Nos mide la diferencia entre la media y la desviación típica y nos lo proporciona en porcentaje.\n",
    "\n",
    "\n",
    "* Medidas de Asimetria\n",
    "    * Asimetria de Fisher - Si sale 0 es que nuestra función es simétrica, en tonces si es positivo más se desplaza a la izquierda y si es negativo se desplaza a la derecha.\n",
    "    * Curtosis - En el caso de ser 0 se parece mucho a una distribución normal, en cambio si es positiva se concentran los valores en el centro casi sin colas, en cambio si es negativa se concentran mucho en las colas y unos centros más pequeños."
   ]
  },
  {
   "cell_type": "code",
   "execution_count": null,
   "metadata": {},
   "outputs": [],
   "source": []
  }
 ],
 "metadata": {
  "kernelspec": {
   "display_name": "Python 3",
   "language": "python",
   "name": "python3"
  },
  "language_info": {
   "codemirror_mode": {
    "name": "ipython",
    "version": 3
   },
   "file_extension": ".py",
   "mimetype": "text/x-python",
   "name": "python",
   "nbconvert_exporter": "python",
   "pygments_lexer": "ipython3",
   "version": "3.7.4"
  }
 },
 "nbformat": 4,
 "nbformat_minor": 2
}
