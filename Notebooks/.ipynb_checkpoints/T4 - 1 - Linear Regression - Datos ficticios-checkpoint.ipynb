{
 "cells": [
  {
   "cell_type": "markdown",
   "metadata": {},
   "source": [
    "## Modelos de regresión lineal\n",
    "### Modelos con datos simulados\n",
    "* El modelo de regresión lineal busca esto:  y = a + b * x\n",
    "* X : 100 valores distribuídos según una N(1.5, 2.5)\n",
    "* Ye = 6 + 2.0 * x + e\n",
    "* E estará distribuída según una N(0, 0.8)"
   ]
  },
  {
   "cell_type": "code",
   "execution_count": 2,
   "metadata": {},
   "outputs": [],
   "source": [
    "import pandas as pd\n",
    "import numpy as np"
   ]
  },
  {
   "cell_type": "code",
   "execution_count": 112,
   "metadata": {},
   "outputs": [],
   "source": [
    "x = 1.5 + 2.5 * np.random.randn(100)"
   ]
  },
  {
   "cell_type": "code",
   "execution_count": 113,
   "metadata": {},
   "outputs": [],
   "source": [
    "res = 0 + 0.8 * np.random.randn(100)"
   ]
  },
  {
   "cell_type": "code",
   "execution_count": 146,
   "metadata": {},
   "outputs": [],
   "source": [
    "# Con mi fecha de cumpleaños va genial y_pred = 6 + 2.0 * x\n",
    "y_pred = 9 + 0.2 * x"
   ]
  },
  {
   "cell_type": "code",
   "execution_count": 115,
   "metadata": {},
   "outputs": [],
   "source": [
    "y_act = 9 + 0.2 * x + res"
   ]
  },
  {
   "cell_type": "code",
   "execution_count": 116,
   "metadata": {},
   "outputs": [],
   "source": [
    "x_list = x.tolist()\n",
    "y_pred_list = y_pred.tolist()\n",
    "y_act_list = y_act.tolist()"
   ]
  },
  {
   "cell_type": "code",
   "execution_count": 117,
   "metadata": {},
   "outputs": [],
   "source": [
    "data = pd.DataFrame(\n",
    "    {\n",
    "        \"x\":x_list,\n",
    "        \"y_act\":y_act_list,\n",
    "        \"y_pred\":y_pred_list\n",
    "    }\n",
    ")"
   ]
  },
  {
   "cell_type": "code",
   "execution_count": 118,
   "metadata": {},
   "outputs": [
    {
     "data": {
      "text/html": [
       "<div>\n",
       "<style scoped>\n",
       "    .dataframe tbody tr th:only-of-type {\n",
       "        vertical-align: middle;\n",
       "    }\n",
       "\n",
       "    .dataframe tbody tr th {\n",
       "        vertical-align: top;\n",
       "    }\n",
       "\n",
       "    .dataframe thead th {\n",
       "        text-align: right;\n",
       "    }\n",
       "</style>\n",
       "<table border=\"1\" class=\"dataframe\">\n",
       "  <thead>\n",
       "    <tr style=\"text-align: right;\">\n",
       "      <th></th>\n",
       "      <th>x</th>\n",
       "      <th>y_act</th>\n",
       "      <th>y_pred</th>\n",
       "    </tr>\n",
       "  </thead>\n",
       "  <tbody>\n",
       "    <tr>\n",
       "      <td>0</td>\n",
       "      <td>-0.542713</td>\n",
       "      <td>7.951009</td>\n",
       "      <td>8.891457</td>\n",
       "    </tr>\n",
       "    <tr>\n",
       "      <td>1</td>\n",
       "      <td>2.497915</td>\n",
       "      <td>10.268881</td>\n",
       "      <td>9.499583</td>\n",
       "    </tr>\n",
       "    <tr>\n",
       "      <td>2</td>\n",
       "      <td>1.536365</td>\n",
       "      <td>9.203378</td>\n",
       "      <td>9.307273</td>\n",
       "    </tr>\n",
       "    <tr>\n",
       "      <td>3</td>\n",
       "      <td>-0.146606</td>\n",
       "      <td>8.924398</td>\n",
       "      <td>8.970679</td>\n",
       "    </tr>\n",
       "    <tr>\n",
       "      <td>4</td>\n",
       "      <td>4.004431</td>\n",
       "      <td>8.797511</td>\n",
       "      <td>9.800886</td>\n",
       "    </tr>\n",
       "    <tr>\n",
       "      <td>...</td>\n",
       "      <td>...</td>\n",
       "      <td>...</td>\n",
       "      <td>...</td>\n",
       "    </tr>\n",
       "    <tr>\n",
       "      <td>95</td>\n",
       "      <td>0.116066</td>\n",
       "      <td>8.835359</td>\n",
       "      <td>9.023213</td>\n",
       "    </tr>\n",
       "    <tr>\n",
       "      <td>96</td>\n",
       "      <td>6.508673</td>\n",
       "      <td>9.210932</td>\n",
       "      <td>10.301735</td>\n",
       "    </tr>\n",
       "    <tr>\n",
       "      <td>97</td>\n",
       "      <td>-0.023423</td>\n",
       "      <td>9.877307</td>\n",
       "      <td>8.995315</td>\n",
       "    </tr>\n",
       "    <tr>\n",
       "      <td>98</td>\n",
       "      <td>-2.774201</td>\n",
       "      <td>9.070884</td>\n",
       "      <td>8.445160</td>\n",
       "    </tr>\n",
       "    <tr>\n",
       "      <td>99</td>\n",
       "      <td>-4.472528</td>\n",
       "      <td>9.280214</td>\n",
       "      <td>8.105494</td>\n",
       "    </tr>\n",
       "  </tbody>\n",
       "</table>\n",
       "<p>100 rows × 3 columns</p>\n",
       "</div>"
      ],
      "text/plain": [
       "           x      y_act     y_pred\n",
       "0  -0.542713   7.951009   8.891457\n",
       "1   2.497915  10.268881   9.499583\n",
       "2   1.536365   9.203378   9.307273\n",
       "3  -0.146606   8.924398   8.970679\n",
       "4   4.004431   8.797511   9.800886\n",
       "..       ...        ...        ...\n",
       "95  0.116066   8.835359   9.023213\n",
       "96  6.508673   9.210932  10.301735\n",
       "97 -0.023423   9.877307   8.995315\n",
       "98 -2.774201   9.070884   8.445160\n",
       "99 -4.472528   9.280214   8.105494\n",
       "\n",
       "[100 rows x 3 columns]"
      ]
     },
     "execution_count": 118,
     "metadata": {},
     "output_type": "execute_result"
    }
   ],
   "source": [
    "data"
   ]
  },
  {
   "cell_type": "code",
   "execution_count": 119,
   "metadata": {},
   "outputs": [],
   "source": [
    "import matplotlib.pyplot as plt"
   ]
  },
  {
   "cell_type": "code",
   "execution_count": 144,
   "metadata": {},
   "outputs": [],
   "source": [
    "y_mean = [ np.mean(y_act) for i in range(1,len(x_list)+1)]"
   ]
  },
  {
   "cell_type": "code",
   "execution_count": 121,
   "metadata": {},
   "outputs": [
    {
     "data": {
      "text/plain": [
       "Text(0.5, 1.0, 'Valor actual VS predicción')"
      ]
     },
     "execution_count": 121,
     "metadata": {},
     "output_type": "execute_result"
    },
    {
     "data": {
      "image/png": "[encoded data removed]",
      "text/plain": [
       "<Figure size 432x288 with 1 Axes>"
      ]
     },
     "metadata": {
      "needs_background": "light"
     },
     "output_type": "display_data"
    }
   ],
   "source": [
    "%matplotlib inline\n",
    "plt.plot(x,y_pred,\"b\")\n",
    "plt.plot(x,y_act,\"ro\")\n",
    "plt.plot(x,y_mean,\"grey\")\n",
    "plt.title(\"Valor actual VS predicción\")"
   ]
  },
  {
   "cell_type": "code",
   "execution_count": 122,
   "metadata": {},
   "outputs": [],
   "source": [
    "data[\"SSR\"] = (data[\"y_pred\"]-np.mean(y_act))**2\n",
    "data[\"SSD\"] = (data[\"y_pred\"]-data[\"y_act\"])**2\n",
    "data[\"SST\"] = (data[\"y_act\"]-np.mean(y_act))**2"
   ]
  },
  {
   "cell_type": "code",
   "execution_count": 123,
   "metadata": {},
   "outputs": [
    {
     "data": {
      "text/html": [
       "<div>\n",
       "<style scoped>\n",
       "    .dataframe tbody tr th:only-of-type {\n",
       "        vertical-align: middle;\n",
       "    }\n",
       "\n",
       "    .dataframe tbody tr th {\n",
       "        vertical-align: top;\n",
       "    }\n",
       "\n",
       "    .dataframe thead th {\n",
       "        text-align: right;\n",
       "    }\n",
       "</style>\n",
       "<table border=\"1\" class=\"dataframe\">\n",
       "  <thead>\n",
       "    <tr style=\"text-align: right;\">\n",
       "      <th></th>\n",
       "      <th>x</th>\n",
       "      <th>y_act</th>\n",
       "      <th>y_pred</th>\n",
       "      <th>SSR</th>\n",
       "      <th>SSD</th>\n",
       "      <th>SST</th>\n",
       "    </tr>\n",
       "  </thead>\n",
       "  <tbody>\n",
       "    <tr>\n",
       "      <td>0</td>\n",
       "      <td>-0.542713</td>\n",
       "      <td>7.951009</td>\n",
       "      <td>8.891457</td>\n",
       "      <td>0.096150</td>\n",
       "      <td>0.884443</td>\n",
       "      <td>1.563821</td>\n",
       "    </tr>\n",
       "    <tr>\n",
       "      <td>1</td>\n",
       "      <td>2.497915</td>\n",
       "      <td>10.268881</td>\n",
       "      <td>9.499583</td>\n",
       "      <td>0.088831</td>\n",
       "      <td>0.591819</td>\n",
       "      <td>1.139222</td>\n",
       "    </tr>\n",
       "    <tr>\n",
       "      <td>2</td>\n",
       "      <td>1.536365</td>\n",
       "      <td>9.203378</td>\n",
       "      <td>9.307273</td>\n",
       "      <td>0.011180</td>\n",
       "      <td>0.010794</td>\n",
       "      <td>0.000003</td>\n",
       "    </tr>\n",
       "    <tr>\n",
       "      <td>3</td>\n",
       "      <td>-0.146606</td>\n",
       "      <td>8.924398</td>\n",
       "      <td>8.970679</td>\n",
       "      <td>0.053296</td>\n",
       "      <td>0.002142</td>\n",
       "      <td>0.076806</td>\n",
       "    </tr>\n",
       "    <tr>\n",
       "      <td>4</td>\n",
       "      <td>4.004431</td>\n",
       "      <td>8.797511</td>\n",
       "      <td>9.800886</td>\n",
       "      <td>0.359219</td>\n",
       "      <td>1.006761</td>\n",
       "      <td>0.163237</td>\n",
       "    </tr>\n",
       "  </tbody>\n",
       "</table>\n",
       "</div>"
      ],
      "text/plain": [
       "          x      y_act    y_pred       SSR       SSD       SST\n",
       "0 -0.542713   7.951009  8.891457  0.096150  0.884443  1.563821\n",
       "1  2.497915  10.268881  9.499583  0.088831  0.591819  1.139222\n",
       "2  1.536365   9.203378  9.307273  0.011180  0.010794  0.000003\n",
       "3 -0.146606   8.924398  8.970679  0.053296  0.002142  0.076806\n",
       "4  4.004431   8.797511  9.800886  0.359219  1.006761  0.163237"
      ]
     },
     "execution_count": 123,
     "metadata": {},
     "output_type": "execute_result"
    }
   ],
   "source": [
    "data.head()"
   ]
  },
  {
   "cell_type": "code",
   "execution_count": 124,
   "metadata": {},
   "outputs": [],
   "source": [
    "SSR = sum(data[\"SSR\"])\n",
    "SSD = sum(data[\"SSD\"])\n",
    "SST = sum(data[\"SST\"])"
   ]
  },
  {
   "cell_type": "code",
   "execution_count": 125,
   "metadata": {},
   "outputs": [
    {
     "data": {
      "text/plain": [
       "26.551797387200118"
      ]
     },
     "execution_count": 125,
     "metadata": {},
     "output_type": "execute_result"
    }
   ],
   "source": [
    "SSR"
   ]
  },
  {
   "cell_type": "code",
   "execution_count": 126,
   "metadata": {},
   "outputs": [
    {
     "data": {
      "text/plain": [
       "84.70961577242073"
      ]
     },
     "execution_count": 126,
     "metadata": {},
     "output_type": "execute_result"
    }
   ],
   "source": [
    "SSD"
   ]
  },
  {
   "cell_type": "code",
   "execution_count": 127,
   "metadata": {},
   "outputs": [
    {
     "data": {
      "text/plain": [
       "100.3091768260676"
      ]
     },
     "execution_count": 127,
     "metadata": {},
     "output_type": "execute_result"
    }
   ],
   "source": [
    "SST"
   ]
  },
  {
   "cell_type": "code",
   "execution_count": 128,
   "metadata": {},
   "outputs": [
    {
     "data": {
      "text/plain": [
       "111.26141315962084"
      ]
     },
     "execution_count": 128,
     "metadata": {},
     "output_type": "execute_result"
    }
   ],
   "source": [
    "SSR+SSD"
   ]
  },
  {
   "cell_type": "code",
   "execution_count": 129,
   "metadata": {},
   "outputs": [],
   "source": [
    "R2 = SSR/SST"
   ]
  },
  {
   "cell_type": "code",
   "execution_count": 130,
   "metadata": {},
   "outputs": [
    {
     "data": {
      "text/plain": [
       "0.2646995840992689"
      ]
     },
     "execution_count": 130,
     "metadata": {},
     "output_type": "execute_result"
    }
   ],
   "source": [
    "R2"
   ]
  },
  {
   "cell_type": "code",
   "execution_count": 131,
   "metadata": {},
   "outputs": [
    {
     "data": {
      "text/plain": [
       "(array([ 2.,  4.,  8., 20., 23., 19., 19.,  2.,  2.,  1.]),\n",
       " array([-2.40943487, -1.8726936 , -1.33595234, -0.79921107, -0.26246981,\n",
       "         0.27427146,  0.81101272,  1.34775399,  1.88449525,  2.42123651,\n",
       "         2.95797778]),\n",
       " <a list of 10 Patch objects>)"
      ]
     },
     "execution_count": 131,
     "metadata": {},
     "output_type": "execute_result"
    },
    {
     "data": {
      "image/png": "[encoded data removed]",
      "text/plain": [
       "<Figure size 432x288 with 1 Axes>"
      ]
     },
     "metadata": {
      "needs_background": "light"
     },
     "output_type": "display_data"
    }
   ],
   "source": [
    "plt.hist(data[\"y_pred\"]-data[\"y_act\"])"
   ]
  },
  {
   "cell_type": "markdown",
   "metadata": {},
   "source": [
    "### Obteniendo la recta de regresión\n",
    "* y = a + b * x\n",
    "* b = sum((xi - x_m)*(y_i-y_m))/sum((xi-x_m)^2)\n",
    "* a = y_n - b * x_m"
   ]
  },
  {
   "cell_type": "code",
   "execution_count": 132,
   "metadata": {},
   "outputs": [
    {
     "data": {
      "text/plain": [
       "(1.6004425212378586, 9.201537367537394)"
      ]
     },
     "execution_count": 132,
     "metadata": {},
     "output_type": "execute_result"
    }
   ],
   "source": [
    "x_mean = np.mean(data[\"x\"])\n",
    "y_mean = np.mean(data[\"y_act\"])\n",
    "x_mean,y_mean"
   ]
  },
  {
   "cell_type": "code",
   "execution_count": 133,
   "metadata": {},
   "outputs": [],
   "source": [
    "data[\"beta_n\"] = (data[\"x\"] - x_mean)*(data[\"y_act\"] - y_mean)\n",
    "data[\"beta_d\"] = (data[\"x\"] - x_mean)**2"
   ]
  },
  {
   "cell_type": "code",
   "execution_count": 134,
   "metadata": {},
   "outputs": [],
   "source": [
    "beta = sum(data[\"beta_n\"])/sum(data[\"beta_d\"])"
   ]
  },
  {
   "cell_type": "code",
   "execution_count": 135,
   "metadata": {},
   "outputs": [],
   "source": [
    "alpha = y_mean - beta * x_mean"
   ]
  },
  {
   "cell_type": "code",
   "execution_count": 136,
   "metadata": {},
   "outputs": [
    {
     "data": {
      "text/plain": [
       "(8.933264639879948, 0.16762409402241535)"
      ]
     },
     "execution_count": 136,
     "metadata": {},
     "output_type": "execute_result"
    }
   ],
   "source": [
    "alpha, beta"
   ]
  },
  {
   "cell_type": "code",
   "execution_count": 137,
   "metadata": {},
   "outputs": [],
   "source": [
    "#El modelo lineal obtenido por regresión es:\n",
    "y = 5.91440960056325 + 1.9995644692496597 * x"
   ]
  },
  {
   "cell_type": "code",
   "execution_count": 138,
   "metadata": {},
   "outputs": [],
   "source": [
    "data[\"y_model\"] = alpha + beta *  data[\"x\"]"
   ]
  },
  {
   "cell_type": "code",
   "execution_count": 139,
   "metadata": {},
   "outputs": [
    {
     "data": {
      "text/html": [
       "<div>\n",
       "<style scoped>\n",
       "    .dataframe tbody tr th:only-of-type {\n",
       "        vertical-align: middle;\n",
       "    }\n",
       "\n",
       "    .dataframe tbody tr th {\n",
       "        vertical-align: top;\n",
       "    }\n",
       "\n",
       "    .dataframe thead th {\n",
       "        text-align: right;\n",
       "    }\n",
       "</style>\n",
       "<table border=\"1\" class=\"dataframe\">\n",
       "  <thead>\n",
       "    <tr style=\"text-align: right;\">\n",
       "      <th></th>\n",
       "      <th>x</th>\n",
       "      <th>y_act</th>\n",
       "      <th>y_pred</th>\n",
       "      <th>SSR</th>\n",
       "      <th>SSD</th>\n",
       "      <th>SST</th>\n",
       "      <th>beta_n</th>\n",
       "      <th>beta_d</th>\n",
       "      <th>y_model</th>\n",
       "    </tr>\n",
       "  </thead>\n",
       "  <tbody>\n",
       "    <tr>\n",
       "      <td>0</td>\n",
       "      <td>-0.542713</td>\n",
       "      <td>7.951009</td>\n",
       "      <td>8.891457</td>\n",
       "      <td>0.096150</td>\n",
       "      <td>0.884443</td>\n",
       "      <td>1.563821</td>\n",
       "      <td>2.680077</td>\n",
       "      <td>4.593117</td>\n",
       "      <td>8.842293</td>\n",
       "    </tr>\n",
       "    <tr>\n",
       "      <td>1</td>\n",
       "      <td>2.497915</td>\n",
       "      <td>10.268881</td>\n",
       "      <td>9.499583</td>\n",
       "      <td>0.088831</td>\n",
       "      <td>0.591819</td>\n",
       "      <td>1.139222</td>\n",
       "      <td>0.957911</td>\n",
       "      <td>0.805457</td>\n",
       "      <td>9.351975</td>\n",
       "    </tr>\n",
       "    <tr>\n",
       "      <td>2</td>\n",
       "      <td>1.536365</td>\n",
       "      <td>9.203378</td>\n",
       "      <td>9.307273</td>\n",
       "      <td>0.011180</td>\n",
       "      <td>0.010794</td>\n",
       "      <td>0.000003</td>\n",
       "      <td>-0.000118</td>\n",
       "      <td>0.004106</td>\n",
       "      <td>9.190796</td>\n",
       "    </tr>\n",
       "    <tr>\n",
       "      <td>3</td>\n",
       "      <td>-0.146606</td>\n",
       "      <td>8.924398</td>\n",
       "      <td>8.970679</td>\n",
       "      <td>0.053296</td>\n",
       "      <td>0.002142</td>\n",
       "      <td>0.076806</td>\n",
       "      <td>0.484176</td>\n",
       "      <td>3.052179</td>\n",
       "      <td>8.908690</td>\n",
       "    </tr>\n",
       "    <tr>\n",
       "      <td>4</td>\n",
       "      <td>4.004431</td>\n",
       "      <td>8.797511</td>\n",
       "      <td>9.800886</td>\n",
       "      <td>0.359219</td>\n",
       "      <td>1.006761</td>\n",
       "      <td>0.163237</td>\n",
       "      <td>-0.971274</td>\n",
       "      <td>5.779159</td>\n",
       "      <td>9.604504</td>\n",
       "    </tr>\n",
       "  </tbody>\n",
       "</table>\n",
       "</div>"
      ],
      "text/plain": [
       "          x      y_act    y_pred       SSR       SSD       SST    beta_n  \\\n",
       "0 -0.542713   7.951009  8.891457  0.096150  0.884443  1.563821  2.680077   \n",
       "1  2.497915  10.268881  9.499583  0.088831  0.591819  1.139222  0.957911   \n",
       "2  1.536365   9.203378  9.307273  0.011180  0.010794  0.000003 -0.000118   \n",
       "3 -0.146606   8.924398  8.970679  0.053296  0.002142  0.076806  0.484176   \n",
       "4  4.004431   8.797511  9.800886  0.359219  1.006761  0.163237 -0.971274   \n",
       "\n",
       "     beta_d   y_model  \n",
       "0  4.593117  8.842293  \n",
       "1  0.805457  9.351975  \n",
       "2  0.004106  9.190796  \n",
       "3  3.052179  8.908690  \n",
       "4  5.779159  9.604504  "
      ]
     },
     "execution_count": 139,
     "metadata": {},
     "output_type": "execute_result"
    }
   ],
   "source": [
    "data.head()"
   ]
  },
  {
   "cell_type": "code",
   "execution_count": 140,
   "metadata": {},
   "outputs": [],
   "source": [
    "SSR = sum((data[\"y_model\"]-y_mean)**2)\n",
    "SSD = sum((data[\"y_model\"]-data[\"y_act\"])**2)\n",
    "SST = sum((data[\"y_act\"]-y_mean)**2)"
   ]
  },
  {
   "cell_type": "code",
   "execution_count": 141,
   "metadata": {},
   "outputs": [
    {
     "data": {
      "text/plain": [
       "(17.6639581761527, 82.64521864991495, 100.3091768260676)"
      ]
     },
     "execution_count": 141,
     "metadata": {},
     "output_type": "execute_result"
    }
   ],
   "source": [
    "SSR, SSD, SST"
   ]
  },
  {
   "cell_type": "code",
   "execution_count": 142,
   "metadata": {},
   "outputs": [],
   "source": [
    "R2 = SSR /SST"
   ]
  },
  {
   "cell_type": "code",
   "execution_count": 143,
   "metadata": {},
   "outputs": [
    {
     "data": {
      "text/plain": [
       "0.17609513640792157"
      ]
     },
     "execution_count": 143,
     "metadata": {},
     "output_type": "execute_result"
    }
   ],
   "source": [
    "R2"
   ]
  },
  {
   "cell_type": "code",
   "execution_count": 145,
   "metadata": {},
   "outputs": [
    {
     "data": {
      "text/plain": [
       "Text(0.5, 1.0, 'Valor actual VS predicción')"
      ]
     },
     "execution_count": 145,
     "metadata": {},
     "output_type": "execute_result"
    },
    {
     "data": {
      "image/png": "[encoded data removed]",
      "text/plain": [
       "<Figure size 432x288 with 1 Axes>"
      ]
     },
     "metadata": {
      "needs_background": "light"
     },
     "output_type": "display_data"
    }
   ],
   "source": [
    "%matplotlib inline\n",
    "plt.plot(data[\"x\"],y_pred,\"b\")\n",
    "plt.plot(data[\"x\"],y_act,\"ro\")\n",
    "plt.plot(data[\"x\"],y_mean,\"grey\")\n",
    "plt.plot(data[\"x\"], data[\"y_model\"],\"g\")\n",
    "plt.title(\"Valor actual VS predicción\")"
   ]
  },
  {
   "cell_type": "code",
   "execution_count": null,
   "metadata": {},
   "outputs": [],
   "source": []
  }
 ],
 "metadata": {
  "kernelspec": {
   "display_name": "Python 3",
   "language": "python",
   "name": "python3"
  },
  "language_info": {
   "codemirror_mode": {
    "name": "ipython",
    "version": 3
   },
   "file_extension": ".py",
   "mimetype": "text/x-python",
   "name": "python",
   "nbconvert_exporter": "python",
   "pygments_lexer": "ipython3",
   "version": "3.7.4"
  }
 },
 "nbformat": 4,
 "nbformat_minor": 2
}
