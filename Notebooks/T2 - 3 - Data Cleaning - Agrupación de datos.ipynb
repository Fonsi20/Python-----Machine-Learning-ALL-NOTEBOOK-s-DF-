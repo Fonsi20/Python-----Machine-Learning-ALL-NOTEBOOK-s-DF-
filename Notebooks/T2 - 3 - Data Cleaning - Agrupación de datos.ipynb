{
 "cells": [
  {
   "cell_type": "markdown",
   "metadata": {},
   "source": [
    "# Agregación de datos por categoría"
   ]
  },
  {
   "cell_type": "code",
   "execution_count": 1,
   "metadata": {},
   "outputs": [],
   "source": [
    "import numpy as np\n",
    "import pandas as pd"
   ]
  },
  {
   "cell_type": "code",
   "execution_count": 2,
   "metadata": {},
   "outputs": [],
   "source": [
    "gender = [\"Male\",\"Female\"]\n",
    "income = [\"Poor\",\"Middle Class\", \"Rich\"]"
   ]
  },
  {
   "cell_type": "code",
   "execution_count": 3,
   "metadata": {},
   "outputs": [],
   "source": [
    "n=500\n",
    "\n",
    "gender_data = []\n",
    "income_data = []\n",
    "\n",
    "for i in range(0,n):\n",
    "    gender_data.append(np.random.choice(gender))\n",
    "    income_data.append(np.random.choice(income))"
   ]
  },
  {
   "cell_type": "code",
   "execution_count": 6,
   "metadata": {},
   "outputs": [
    {
     "data": {
      "text/plain": [
       "['Poor',\n",
       " 'Poor',\n",
       " 'Poor',\n",
       " 'Middle Class',\n",
       " 'Middle Class',\n",
       " 'Middle Class',\n",
       " 'Middle Class',\n",
       " 'Poor',\n",
       " 'Poor']"
      ]
     },
     "execution_count": 6,
     "metadata": {},
     "output_type": "execute_result"
    }
   ],
   "source": [
    "income_data[1:10]"
   ]
  },
  {
   "cell_type": "code",
   "execution_count": 7,
   "metadata": {},
   "outputs": [
    {
     "data": {
      "text/plain": [
       "['Female',\n",
       " 'Female',\n",
       " 'Male',\n",
       " 'Male',\n",
       " 'Male',\n",
       " 'Female',\n",
       " 'Male',\n",
       " 'Male',\n",
       " 'Female']"
      ]
     },
     "execution_count": 7,
     "metadata": {},
     "output_type": "execute_result"
    }
   ],
   "source": [
    "gender_data[1:10]"
   ]
  },
  {
   "cell_type": "code",
   "execution_count": 8,
   "metadata": {},
   "outputs": [],
   "source": [
    "#N(m,s) -> m+s*z\n",
    "height = 160 + 30 * np.random.randn(n)\n",
    "weight = 65 + 25 * np.random.randn(n)\n",
    "age = 30 + 12 * np.random.randn(n)\n",
    "income = 18000 + 3500 * np.random.randn(n)"
   ]
  },
  {
   "cell_type": "code",
   "execution_count": 9,
   "metadata": {},
   "outputs": [],
   "source": [
    "data = pd.DataFrame(\n",
    "{\n",
    "    \"Gender\": gender_data,\n",
    "    \"Economic Status\": income_data,\n",
    "    \"Height\": height,\n",
    "    \"Weight\": weight,\n",
    "    \"Age\": age,\n",
    "    \"Income\": income\n",
    "}\n",
    ")"
   ]
  },
  {
   "cell_type": "code",
   "execution_count": 10,
   "metadata": {},
   "outputs": [
    {
     "data": {
      "text/html": [
       "<div>\n",
       "<style scoped>\n",
       "    .dataframe tbody tr th:only-of-type {\n",
       "        vertical-align: middle;\n",
       "    }\n",
       "\n",
       "    .dataframe tbody tr th {\n",
       "        vertical-align: top;\n",
       "    }\n",
       "\n",
       "    .dataframe thead th {\n",
       "        text-align: right;\n",
       "    }\n",
       "</style>\n",
       "<table border=\"1\" class=\"dataframe\">\n",
       "  <thead>\n",
       "    <tr style=\"text-align: right;\">\n",
       "      <th></th>\n",
       "      <th>Gender</th>\n",
       "      <th>Economic Status</th>\n",
       "      <th>Height</th>\n",
       "      <th>Weight</th>\n",
       "      <th>Age</th>\n",
       "      <th>Income</th>\n",
       "    </tr>\n",
       "  </thead>\n",
       "  <tbody>\n",
       "    <tr>\n",
       "      <td>0</td>\n",
       "      <td>Female</td>\n",
       "      <td>Middle Class</td>\n",
       "      <td>151.646026</td>\n",
       "      <td>41.032937</td>\n",
       "      <td>21.572412</td>\n",
       "      <td>18244.157865</td>\n",
       "    </tr>\n",
       "    <tr>\n",
       "      <td>1</td>\n",
       "      <td>Female</td>\n",
       "      <td>Poor</td>\n",
       "      <td>144.053353</td>\n",
       "      <td>90.537076</td>\n",
       "      <td>33.728153</td>\n",
       "      <td>21284.941801</td>\n",
       "    </tr>\n",
       "    <tr>\n",
       "      <td>2</td>\n",
       "      <td>Female</td>\n",
       "      <td>Poor</td>\n",
       "      <td>130.991161</td>\n",
       "      <td>40.150748</td>\n",
       "      <td>22.754075</td>\n",
       "      <td>20167.955507</td>\n",
       "    </tr>\n",
       "    <tr>\n",
       "      <td>3</td>\n",
       "      <td>Male</td>\n",
       "      <td>Poor</td>\n",
       "      <td>153.535623</td>\n",
       "      <td>65.265272</td>\n",
       "      <td>36.019782</td>\n",
       "      <td>23188.000831</td>\n",
       "    </tr>\n",
       "    <tr>\n",
       "      <td>4</td>\n",
       "      <td>Male</td>\n",
       "      <td>Middle Class</td>\n",
       "      <td>155.675542</td>\n",
       "      <td>63.950349</td>\n",
       "      <td>38.587308</td>\n",
       "      <td>23413.693760</td>\n",
       "    </tr>\n",
       "  </tbody>\n",
       "</table>\n",
       "</div>"
      ],
      "text/plain": [
       "   Gender Economic Status      Height     Weight        Age        Income\n",
       "0  Female    Middle Class  151.646026  41.032937  21.572412  18244.157865\n",
       "1  Female            Poor  144.053353  90.537076  33.728153  21284.941801\n",
       "2  Female            Poor  130.991161  40.150748  22.754075  20167.955507\n",
       "3    Male            Poor  153.535623  65.265272  36.019782  23188.000831\n",
       "4    Male    Middle Class  155.675542  63.950349  38.587308  23413.693760"
      ]
     },
     "execution_count": 10,
     "metadata": {},
     "output_type": "execute_result"
    }
   ],
   "source": [
    "data.head()"
   ]
  },
  {
   "cell_type": "markdown",
   "metadata": {},
   "source": [
    "Para hacer una agraupación de datos al mismo DF hay que hacerle un groupBy"
   ]
  },
  {
   "cell_type": "code",
   "execution_count": 12,
   "metadata": {},
   "outputs": [],
   "source": [
    "groped_gender = data.groupby(\"Gender\")"
   ]
  },
  {
   "cell_type": "code",
   "execution_count": 13,
   "metadata": {},
   "outputs": [
    {
     "data": {
      "text/plain": [
       "{'Female': Int64Index([  0,   1,   2,   6,   9,  12,  13,  15,  17,  18,\n",
       "             ...\n",
       "             481, 485, 486, 489, 490, 491, 493, 495, 497, 499],\n",
       "            dtype='int64', length=270),\n",
       " 'Male': Int64Index([  3,   4,   5,   7,   8,  10,  11,  14,  16,  20,\n",
       "             ...\n",
       "             480, 482, 483, 484, 487, 488, 492, 494, 496, 498],\n",
       "            dtype='int64', length=230)}"
      ]
     },
     "execution_count": 13,
     "metadata": {},
     "output_type": "execute_result"
    }
   ],
   "source": [
    "groped_gender.groups"
   ]
  },
  {
   "cell_type": "code",
   "execution_count": 14,
   "metadata": {},
   "outputs": [
    {
     "name": "stdout",
     "output_type": "stream",
     "text": [
      "Female\n",
      "     Gender Economic Status      Height     Weight        Age        Income\n",
      "0    Female    Middle Class  151.646026  41.032937  21.572412  18244.157865\n",
      "1    Female            Poor  144.053353  90.537076  33.728153  21284.941801\n",
      "2    Female            Poor  130.991161  40.150748  22.754075  20167.955507\n",
      "6    Female    Middle Class  145.709398  52.692465  39.789951  22542.888497\n",
      "9    Female            Poor  168.368526  53.830137  12.933532  21404.068394\n",
      "..      ...             ...         ...        ...        ...           ...\n",
      "491  Female    Middle Class  139.165481  56.942510  44.081748  19500.878607\n",
      "493  Female            Poor  202.728883  70.179470  47.991032  20342.132966\n",
      "495  Female            Poor  148.689932  97.990514  24.362750  16069.257745\n",
      "497  Female            Rich  176.381482  79.427104  27.540795  17896.465197\n",
      "499  Female            Rich   94.719814  59.151010   4.566075  21477.085687\n",
      "\n",
      "[270 rows x 6 columns]\n",
      "Male\n",
      "    Gender Economic Status      Height     Weight        Age        Income\n",
      "3     Male            Poor  153.535623  65.265272  36.019782  23188.000831\n",
      "4     Male    Middle Class  155.675542  63.950349  38.587308  23413.693760\n",
      "5     Male    Middle Class  163.227170  60.505881  27.469863  21541.090542\n",
      "7     Male    Middle Class  156.298637  86.386395   5.402038  21669.893887\n",
      "8     Male            Poor  120.919752  32.676374  25.887894  18809.044382\n",
      "..     ...             ...         ...        ...        ...           ...\n",
      "488   Male            Poor  200.331377  85.549110  22.319750  21932.263068\n",
      "492   Male    Middle Class  237.363107  87.694843  38.131459  24422.999328\n",
      "494   Male            Poor  190.521782  46.782654  29.036058  17986.849179\n",
      "496   Male            Rich  129.754339  21.076552  31.866030  18174.271862\n",
      "498   Male            Poor  200.950520  71.206119  14.817182  18671.732153\n",
      "\n",
      "[230 rows x 6 columns]\n"
     ]
    }
   ],
   "source": [
    "for names, groups in groped_gender:\n",
    "    print(names)\n",
    "    print(groups)"
   ]
  },
  {
   "cell_type": "code",
   "execution_count": 15,
   "metadata": {},
   "outputs": [
    {
     "data": {
      "text/html": [
       "<div>\n",
       "<style scoped>\n",
       "    .dataframe tbody tr th:only-of-type {\n",
       "        vertical-align: middle;\n",
       "    }\n",
       "\n",
       "    .dataframe tbody tr th {\n",
       "        vertical-align: top;\n",
       "    }\n",
       "\n",
       "    .dataframe thead th {\n",
       "        text-align: right;\n",
       "    }\n",
       "</style>\n",
       "<table border=\"1\" class=\"dataframe\">\n",
       "  <thead>\n",
       "    <tr style=\"text-align: right;\">\n",
       "      <th></th>\n",
       "      <th>Gender</th>\n",
       "      <th>Economic Status</th>\n",
       "      <th>Height</th>\n",
       "      <th>Weight</th>\n",
       "      <th>Age</th>\n",
       "      <th>Income</th>\n",
       "    </tr>\n",
       "  </thead>\n",
       "  <tbody>\n",
       "    <tr>\n",
       "      <td>0</td>\n",
       "      <td>Female</td>\n",
       "      <td>Middle Class</td>\n",
       "      <td>151.646026</td>\n",
       "      <td>41.032937</td>\n",
       "      <td>21.572412</td>\n",
       "      <td>18244.157865</td>\n",
       "    </tr>\n",
       "    <tr>\n",
       "      <td>1</td>\n",
       "      <td>Female</td>\n",
       "      <td>Poor</td>\n",
       "      <td>144.053353</td>\n",
       "      <td>90.537076</td>\n",
       "      <td>33.728153</td>\n",
       "      <td>21284.941801</td>\n",
       "    </tr>\n",
       "    <tr>\n",
       "      <td>2</td>\n",
       "      <td>Female</td>\n",
       "      <td>Poor</td>\n",
       "      <td>130.991161</td>\n",
       "      <td>40.150748</td>\n",
       "      <td>22.754075</td>\n",
       "      <td>20167.955507</td>\n",
       "    </tr>\n",
       "    <tr>\n",
       "      <td>6</td>\n",
       "      <td>Female</td>\n",
       "      <td>Middle Class</td>\n",
       "      <td>145.709398</td>\n",
       "      <td>52.692465</td>\n",
       "      <td>39.789951</td>\n",
       "      <td>22542.888497</td>\n",
       "    </tr>\n",
       "    <tr>\n",
       "      <td>9</td>\n",
       "      <td>Female</td>\n",
       "      <td>Poor</td>\n",
       "      <td>168.368526</td>\n",
       "      <td>53.830137</td>\n",
       "      <td>12.933532</td>\n",
       "      <td>21404.068394</td>\n",
       "    </tr>\n",
       "    <tr>\n",
       "      <td>...</td>\n",
       "      <td>...</td>\n",
       "      <td>...</td>\n",
       "      <td>...</td>\n",
       "      <td>...</td>\n",
       "      <td>...</td>\n",
       "      <td>...</td>\n",
       "    </tr>\n",
       "    <tr>\n",
       "      <td>491</td>\n",
       "      <td>Female</td>\n",
       "      <td>Middle Class</td>\n",
       "      <td>139.165481</td>\n",
       "      <td>56.942510</td>\n",
       "      <td>44.081748</td>\n",
       "      <td>19500.878607</td>\n",
       "    </tr>\n",
       "    <tr>\n",
       "      <td>493</td>\n",
       "      <td>Female</td>\n",
       "      <td>Poor</td>\n",
       "      <td>202.728883</td>\n",
       "      <td>70.179470</td>\n",
       "      <td>47.991032</td>\n",
       "      <td>20342.132966</td>\n",
       "    </tr>\n",
       "    <tr>\n",
       "      <td>495</td>\n",
       "      <td>Female</td>\n",
       "      <td>Poor</td>\n",
       "      <td>148.689932</td>\n",
       "      <td>97.990514</td>\n",
       "      <td>24.362750</td>\n",
       "      <td>16069.257745</td>\n",
       "    </tr>\n",
       "    <tr>\n",
       "      <td>497</td>\n",
       "      <td>Female</td>\n",
       "      <td>Rich</td>\n",
       "      <td>176.381482</td>\n",
       "      <td>79.427104</td>\n",
       "      <td>27.540795</td>\n",
       "      <td>17896.465197</td>\n",
       "    </tr>\n",
       "    <tr>\n",
       "      <td>499</td>\n",
       "      <td>Female</td>\n",
       "      <td>Rich</td>\n",
       "      <td>94.719814</td>\n",
       "      <td>59.151010</td>\n",
       "      <td>4.566075</td>\n",
       "      <td>21477.085687</td>\n",
       "    </tr>\n",
       "  </tbody>\n",
       "</table>\n",
       "<p>270 rows × 6 columns</p>\n",
       "</div>"
      ],
      "text/plain": [
       "     Gender Economic Status      Height     Weight        Age        Income\n",
       "0    Female    Middle Class  151.646026  41.032937  21.572412  18244.157865\n",
       "1    Female            Poor  144.053353  90.537076  33.728153  21284.941801\n",
       "2    Female            Poor  130.991161  40.150748  22.754075  20167.955507\n",
       "6    Female    Middle Class  145.709398  52.692465  39.789951  22542.888497\n",
       "9    Female            Poor  168.368526  53.830137  12.933532  21404.068394\n",
       "..      ...             ...         ...        ...        ...           ...\n",
       "491  Female    Middle Class  139.165481  56.942510  44.081748  19500.878607\n",
       "493  Female            Poor  202.728883  70.179470  47.991032  20342.132966\n",
       "495  Female            Poor  148.689932  97.990514  24.362750  16069.257745\n",
       "497  Female            Rich  176.381482  79.427104  27.540795  17896.465197\n",
       "499  Female            Rich   94.719814  59.151010   4.566075  21477.085687\n",
       "\n",
       "[270 rows x 6 columns]"
      ]
     },
     "execution_count": 15,
     "metadata": {},
     "output_type": "execute_result"
    }
   ],
   "source": [
    "groped_gender.get_group(\"Female\")"
   ]
  },
  {
   "cell_type": "code",
   "execution_count": 16,
   "metadata": {},
   "outputs": [
    {
     "ename": "KeyError",
     "evalue": "''",
     "output_type": "error",
     "traceback": [
      "\u001b[1;31m---------------------------------------------------------------------------\u001b[0m",
      "\u001b[1;31mKeyError\u001b[0m                                  Traceback (most recent call last)",
      "\u001b[1;32m<ipython-input-16-9420fa0cb3aa>\u001b[0m in \u001b[0;36m<module>\u001b[1;34m\u001b[0m\n\u001b[1;32m----> 1\u001b[1;33m \u001b[0mdouble_group\u001b[0m \u001b[1;33m=\u001b[0m \u001b[0mdata\u001b[0m\u001b[1;33m.\u001b[0m\u001b[0mgroupby\u001b[0m\u001b[1;33m(\u001b[0m\u001b[1;34m\"\"\u001b[0m\u001b[1;33m)\u001b[0m\u001b[1;33m\u001b[0m\u001b[1;33m\u001b[0m\u001b[0m\n\u001b[0m",
      "\u001b[1;32m~\\AppData\\Local\\Continuum\\anaconda3\\lib\\site-packages\\pandas\\core\\generic.py\u001b[0m in \u001b[0;36mgroupby\u001b[1;34m(self, by, axis, level, as_index, sort, group_keys, squeeze, observed, **kwargs)\u001b[0m\n\u001b[0;32m   7892\u001b[0m             \u001b[0msqueeze\u001b[0m\u001b[1;33m=\u001b[0m\u001b[0msqueeze\u001b[0m\u001b[1;33m,\u001b[0m\u001b[1;33m\u001b[0m\u001b[1;33m\u001b[0m\u001b[0m\n\u001b[0;32m   7893\u001b[0m             \u001b[0mobserved\u001b[0m\u001b[1;33m=\u001b[0m\u001b[0mobserved\u001b[0m\u001b[1;33m,\u001b[0m\u001b[1;33m\u001b[0m\u001b[1;33m\u001b[0m\u001b[0m\n\u001b[1;32m-> 7894\u001b[1;33m             \u001b[1;33m**\u001b[0m\u001b[0mkwargs\u001b[0m\u001b[1;33m\u001b[0m\u001b[1;33m\u001b[0m\u001b[0m\n\u001b[0m\u001b[0;32m   7895\u001b[0m         )\n\u001b[0;32m   7896\u001b[0m \u001b[1;33m\u001b[0m\u001b[0m\n",
      "\u001b[1;32m~\\AppData\\Local\\Continuum\\anaconda3\\lib\\site-packages\\pandas\\core\\groupby\\groupby.py\u001b[0m in \u001b[0;36mgroupby\u001b[1;34m(obj, by, **kwds)\u001b[0m\n\u001b[0;32m   2520\u001b[0m         \u001b[1;32mraise\u001b[0m \u001b[0mTypeError\u001b[0m\u001b[1;33m(\u001b[0m\u001b[1;34m\"invalid type: {}\"\u001b[0m\u001b[1;33m.\u001b[0m\u001b[0mformat\u001b[0m\u001b[1;33m(\u001b[0m\u001b[0mobj\u001b[0m\u001b[1;33m)\u001b[0m\u001b[1;33m)\u001b[0m\u001b[1;33m\u001b[0m\u001b[1;33m\u001b[0m\u001b[0m\n\u001b[0;32m   2521\u001b[0m \u001b[1;33m\u001b[0m\u001b[0m\n\u001b[1;32m-> 2522\u001b[1;33m     \u001b[1;32mreturn\u001b[0m \u001b[0mklass\u001b[0m\u001b[1;33m(\u001b[0m\u001b[0mobj\u001b[0m\u001b[1;33m,\u001b[0m \u001b[0mby\u001b[0m\u001b[1;33m,\u001b[0m \u001b[1;33m**\u001b[0m\u001b[0mkwds\u001b[0m\u001b[1;33m)\u001b[0m\u001b[1;33m\u001b[0m\u001b[1;33m\u001b[0m\u001b[0m\n\u001b[0m",
      "\u001b[1;32m~\\AppData\\Local\\Continuum\\anaconda3\\lib\\site-packages\\pandas\\core\\groupby\\groupby.py\u001b[0m in \u001b[0;36m__init__\u001b[1;34m(self, obj, keys, axis, level, grouper, exclusions, selection, as_index, sort, group_keys, squeeze, observed, **kwargs)\u001b[0m\n\u001b[0;32m    389\u001b[0m                 \u001b[0msort\u001b[0m\u001b[1;33m=\u001b[0m\u001b[0msort\u001b[0m\u001b[1;33m,\u001b[0m\u001b[1;33m\u001b[0m\u001b[1;33m\u001b[0m\u001b[0m\n\u001b[0;32m    390\u001b[0m                 \u001b[0mobserved\u001b[0m\u001b[1;33m=\u001b[0m\u001b[0mobserved\u001b[0m\u001b[1;33m,\u001b[0m\u001b[1;33m\u001b[0m\u001b[1;33m\u001b[0m\u001b[0m\n\u001b[1;32m--> 391\u001b[1;33m                 \u001b[0mmutated\u001b[0m\u001b[1;33m=\u001b[0m\u001b[0mself\u001b[0m\u001b[1;33m.\u001b[0m\u001b[0mmutated\u001b[0m\u001b[1;33m,\u001b[0m\u001b[1;33m\u001b[0m\u001b[1;33m\u001b[0m\u001b[0m\n\u001b[0m\u001b[0;32m    392\u001b[0m             )\n\u001b[0;32m    393\u001b[0m \u001b[1;33m\u001b[0m\u001b[0m\n",
      "\u001b[1;32m~\\AppData\\Local\\Continuum\\anaconda3\\lib\\site-packages\\pandas\\core\\groupby\\grouper.py\u001b[0m in \u001b[0;36m_get_grouper\u001b[1;34m(obj, key, axis, level, sort, observed, mutated, validate)\u001b[0m\n\u001b[0;32m    619\u001b[0m                 \u001b[0min_axis\u001b[0m\u001b[1;33m,\u001b[0m \u001b[0mname\u001b[0m\u001b[1;33m,\u001b[0m \u001b[0mlevel\u001b[0m\u001b[1;33m,\u001b[0m \u001b[0mgpr\u001b[0m \u001b[1;33m=\u001b[0m \u001b[1;32mFalse\u001b[0m\u001b[1;33m,\u001b[0m \u001b[1;32mNone\u001b[0m\u001b[1;33m,\u001b[0m \u001b[0mgpr\u001b[0m\u001b[1;33m,\u001b[0m \u001b[1;32mNone\u001b[0m\u001b[1;33m\u001b[0m\u001b[1;33m\u001b[0m\u001b[0m\n\u001b[0;32m    620\u001b[0m             \u001b[1;32melse\u001b[0m\u001b[1;33m:\u001b[0m\u001b[1;33m\u001b[0m\u001b[1;33m\u001b[0m\u001b[0m\n\u001b[1;32m--> 621\u001b[1;33m                 \u001b[1;32mraise\u001b[0m \u001b[0mKeyError\u001b[0m\u001b[1;33m(\u001b[0m\u001b[0mgpr\u001b[0m\u001b[1;33m)\u001b[0m\u001b[1;33m\u001b[0m\u001b[1;33m\u001b[0m\u001b[0m\n\u001b[0m\u001b[0;32m    622\u001b[0m         \u001b[1;32melif\u001b[0m \u001b[0misinstance\u001b[0m\u001b[1;33m(\u001b[0m\u001b[0mgpr\u001b[0m\u001b[1;33m,\u001b[0m \u001b[0mGrouper\u001b[0m\u001b[1;33m)\u001b[0m \u001b[1;32mand\u001b[0m \u001b[0mgpr\u001b[0m\u001b[1;33m.\u001b[0m\u001b[0mkey\u001b[0m \u001b[1;32mis\u001b[0m \u001b[1;32mnot\u001b[0m \u001b[1;32mNone\u001b[0m\u001b[1;33m:\u001b[0m\u001b[1;33m\u001b[0m\u001b[1;33m\u001b[0m\u001b[0m\n\u001b[0;32m    623\u001b[0m             \u001b[1;31m# Add key to exclusions\u001b[0m\u001b[1;33m\u001b[0m\u001b[1;33m\u001b[0m\u001b[1;33m\u001b[0m\u001b[0m\n",
      "\u001b[1;31mKeyError\u001b[0m: ''"
     ]
    }
   ],
   "source": [
    "double_group = data.groupby(\"\")"
   ]
  },
  {
   "cell_type": "code",
   "execution_count": null,
   "metadata": {},
   "outputs": [],
   "source": []
  }
 ],
 "metadata": {
  "kernelspec": {
   "display_name": "Python 3",
   "language": "python",
   "name": "python3"
  },
  "language_info": {
   "codemirror_mode": {
    "name": "ipython",
    "version": 3
   },
   "file_extension": ".py",
   "mimetype": "text/x-python",
   "name": "python",
   "nbconvert_exporter": "python",
   "pygments_lexer": "ipython3",
   "version": "3.7.4"
  }
 },
 "nbformat": 4,
 "nbformat_minor": 2
}
