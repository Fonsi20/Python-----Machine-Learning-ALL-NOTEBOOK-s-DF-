{
 "cells": [
  {
   "cell_type": "markdown",
   "metadata": {},
   "source": [
    "## Resumen Estadístico Básico\n",
    "#### Moda, Quantiles, CV, Coeficiente de asimetria y curtosis\n",
    "\n",
    "* Medidas de Centralización\n",
    "    * Media Aritmetica - Sumamos todos los valores y los dividimos por el numero de estas.\n",
    "    * Mediana - Si colocamos todos los valores en orden creciente, la mediana es el valor que hay justo en el centro, con un error de 0.5. En el caso de que sean dos números los que queden en el centro la mediana es la Media Aritmetica de estos dos números.\n",
    "    * Moda - Es el valor que más aparece.\n",
    "    * Percentiles - El percentil es lo mismo que la Mediana pero en este caso te permite calcular no solo el del medio, si no cualquiera de ellos. Para ello podemos usar los Quantiles que nos dicen que valor es el minimo, máximo, cual está al 25, 50 y 75%\n",
    "    \n",
    "    \n",
    "* Medidas de Dispersión\n",
    "    * Varianza Muestral - La varianza siempre será positivo, es lo que se diferencia de la media aritmetica.\n",
    "    * Desviación típica - Nos permite obtener valores más reales a traves de la varianza.\n",
    "    * Coeficiente de variación - Nos mide la diferencia entre la media y la desviación típica y nos lo proporciona en porcentaje.\n",
    "\n",
    "\n",
    "* Medidas de Asimetria\n",
    "    * Asimetria de Fisher - Si sale 0 es que nuestra función es simétrica, en tonces si es positivo más se desplaza a la izquierda y si es negativo se desplaza a la derecha.\n",
    "    * Curtosis - En el caso de ser 0 se parece mucho a una distribución normal, en cambio si es positiva se concentran los valores en el centro casi sin colas, en cambio si es negativa se concentran mucho en las colas y unos centros más pequeños."
   ]
  },
  {
   "cell_type": "code",
   "execution_count": 2,
   "metadata": {},
   "outputs": [],
   "source": [
    "import pandas as pd\n",
    "import numpy as np"
   ]
  },
  {
   "cell_type": "markdown",
   "metadata": {},
   "source": [
    "## Medidas de centralización\n",
    "Nos sirve para ver cómo se sitúan los datos.Son la media, mediana , percentiles y moda.\n",
    "Vamos a generar una lista de números"
   ]
  },
  {
   "cell_type": "code",
   "execution_count": 11,
   "metadata": {},
   "outputs": [
    {
     "data": {
      "text/plain": [
       "[927,\n",
       " 740,\n",
       " 702,\n",
       " 805,\n",
       " 784,\n",
       " 901,\n",
       " 926,\n",
       " 154,\n",
       " 266,\n",
       " 690,\n",
       " 650,\n",
       " 869,\n",
       " 993,\n",
       " 103,\n",
       " 893,\n",
       " 335,\n",
       " 586,\n",
       " 999,\n",
       " 173,\n",
       " 27,\n",
       " 421,\n",
       " 416,\n",
       " 76,\n",
       " 105,\n",
       " 128,\n",
       " 326,\n",
       " 485,\n",
       " 972,\n",
       " 594,\n",
       " 460,\n",
       " 979,\n",
       " 213,\n",
       " 204,\n",
       " 324,\n",
       " 640,\n",
       " 930,\n",
       " 697,\n",
       " 343,\n",
       " 336,\n",
       " 437,\n",
       " 94,\n",
       " 642,\n",
       " 530,\n",
       " 824,\n",
       " 861,\n",
       " 503,\n",
       " 414,\n",
       " 83,\n",
       " 211,\n",
       " 983,\n",
       " 248,\n",
       " 35,\n",
       " 206,\n",
       " 96,\n",
       " 85,\n",
       " 194,\n",
       " 259,\n",
       " 710,\n",
       " 782,\n",
       " 290,\n",
       " 312,\n",
       " 706,\n",
       " 262,\n",
       " 167,\n",
       " 638,\n",
       " 120,\n",
       " 982,\n",
       " 23,\n",
       " 273,\n",
       " 722,\n",
       " 239,\n",
       " 879,\n",
       " 955,\n",
       " 224,\n",
       " 587,\n",
       " 243,\n",
       " 57,\n",
       " 13,\n",
       " 818,\n",
       " 660,\n",
       " 632,\n",
       " 307,\n",
       " 286,\n",
       " 140,\n",
       " 711,\n",
       " 662,\n",
       " 962,\n",
       " 614,\n",
       " 738,\n",
       " 458,\n",
       " 156,\n",
       " 653,\n",
       " 280,\n",
       " 569,\n",
       " 852,\n",
       " 443,\n",
       " 160,\n",
       " 168,\n",
       " 415,\n",
       " 723]"
      ]
     },
     "execution_count": 11,
     "metadata": {},
     "output_type": "execute_result"
    }
   ],
   "source": [
    "# Generar números aleatorios\n",
    "import random\n",
    "random.seed(20)\n",
    "A= (random.sample(range(1000), 100))\n",
    "A"
   ]
  },
  {
   "cell_type": "code",
   "execution_count": 12,
   "metadata": {},
   "outputs": [
    {
     "data": {
      "text/plain": [
       "484.68"
      ]
     },
     "execution_count": 12,
     "metadata": {},
     "output_type": "execute_result"
    }
   ],
   "source": [
    "mean=np.mean(A)#Cálculo media\n",
    "mean"
   ]
  },
  {
   "cell_type": "code",
   "execution_count": 13,
   "metadata": {},
   "outputs": [
    {
     "data": {
      "text/plain": [
       "450.5"
      ]
     },
     "execution_count": 13,
     "metadata": {},
     "output_type": "execute_result"
    }
   ],
   "source": [
    "np.median(A)# Cálculo mediana"
   ]
  },
  {
   "cell_type": "code",
   "execution_count": 15,
   "metadata": {},
   "outputs": [
    {
     "data": {
      "text/plain": [
       "ModeResult(mode=array([13]), count=array([1]))"
      ]
     },
     "execution_count": 15,
     "metadata": {},
     "output_type": "execute_result"
    }
   ],
   "source": [
    "from scipy import stats # Cálculo moda\n",
    "stats.mode(A)"
   ]
  },
  {
   "cell_type": "code",
   "execution_count": 19,
   "metadata": {},
   "outputs": [
    {
     "data": {
      "text/plain": [
       "212.5"
      ]
     },
     "execution_count": 19,
     "metadata": {},
     "output_type": "execute_result"
    }
   ],
   "source": [
    "# percencil 100=p1 0=p0, 0.25 1er cuantil 0.75 3er cuantil\n",
    "np.percentile(A, 25) # return 0.25 percentile, e.g 1er cuantil."
   ]
  },
  {
   "cell_type": "markdown",
   "metadata": {},
   "source": [
    "## Medidas de dispersión\n",
    "* La varianza y desviación típica, nos indica si los valores se desplazan mucho o poco con respecto\n",
    "de la media.\n",
    "* La varianza es como se aleja cada valor de la media. La varianza eleva los valores al cuadrado…\n",
    "nos introduce en una nueva dimensión… puede no tener sentido.\n",
    "* La desviación típica es la raíz cuadrada de la varianza. Con la desviación típica volvemos a la\n",
    "dimensión original.\n",
    "* Coeficiente de variación: nos mide la variabilidad relativa entre la desviación típica entre la\n",
    "media"
   ]
  },
  {
   "cell_type": "code",
   "execution_count": 20,
   "metadata": {},
   "outputs": [
    {
     "data": {
      "text/plain": [
       "90212.8176"
      ]
     },
     "execution_count": 20,
     "metadata": {},
     "output_type": "execute_result"
    }
   ],
   "source": [
    "np.var(A)#varianza"
   ]
  },
  {
   "cell_type": "code",
   "execution_count": 21,
   "metadata": {},
   "outputs": [
    {
     "data": {
      "text/plain": [
       "300.35448656545816"
      ]
     },
     "execution_count": 21,
     "metadata": {},
     "output_type": "execute_result"
    }
   ],
   "source": [
    "std=np.std(A)#desviación típica\n",
    "std"
   ]
  },
  {
   "cell_type": "code",
   "execution_count": 22,
   "metadata": {},
   "outputs": [
    {
     "data": {
      "text/plain": [
       "61.96964730656478"
      ]
     },
     "execution_count": 22,
     "metadata": {},
     "output_type": "execute_result"
    }
   ],
   "source": [
    "# coeficiente de variacion std/mean*100\n",
    "# variabilidad relativa entre la media y la std, si hay mucha variabilidad será→grande el coeficiente.\n",
    "std/mean*100"
   ]
  },
  {
   "cell_type": "markdown",
   "metadata": {},
   "source": [
    "## Medidas de asimetría\n",
    "Momento de orden r, respecto a la media El momento de orden r. son los momentos de distribución\n",
    "respecto a la media."
   ]
  },
  {
   "cell_type": "code",
   "execution_count": 23,
   "metadata": {},
   "outputs": [],
   "source": [
    "import scipy.stats as sp # para modelos de asimetria\n",
    "from IPython.display import Image # para incluir imagenes local"
   ]
  },
  {
   "cell_type": "code",
   "execution_count": 25,
   "metadata": {},
   "outputs": [
    {
     "data": {
      "image/jpeg": "[encoded data removed]",
      "text/plain": [
       "<IPython.core.display.Image object>"
      ]
     },
     "execution_count": 25,
     "metadata": {},
     "output_type": "execute_result"
    }
   ],
   "source": [
    "# Asimetría de Fisher\n",
    "Image(filename=\"Imagenes/Asimetria/asimetria.jpg\")"
   ]
  },
  {
   "cell_type": "markdown",
   "metadata": {},
   "source": [
    "#### Asimetría de Fisher\n",
    "* Si el coeficiente es = 0; Significa que vuestra función es perfectamente\n",
    "simetríca, se distribuye igual, por ejemplo la distribución normal. Raro es\n",
    "que salga cero\n",
    "\n",
    "\n",
    "* Si el coeficiente es >0; Significa que cuánto más positivo es este valor más\n",
    "desplazada está la distribución hacía la izquierda, de modo que tenemos una\n",
    "asimetría positiva, nos queda la media muy por encima de la distribución.\n",
    "\n",
    "\n",
    "* Si el el coeficiente es <0; Significa que cuánto más negativo es este\n",
    "valor más desplazado está la distribución hacía la derecha, de modo que\n",
    "tenemos una asimetría negativa, nos queda la media muy por debajo de la\n",
    "distribución."
   ]
  },
  {
   "cell_type": "code",
   "execution_count": 26,
   "metadata": {},
   "outputs": [
    {
     "data": {
      "text/plain": [
       "0.1538572349343903"
      ]
     },
     "execution_count": 26,
     "metadata": {},
     "output_type": "execute_result"
    }
   ],
   "source": [
    "# 3rd Moment: Asimetría de Fisher\n",
    "Asimetria=sp.skew(A)\n",
    "Asimetria"
   ]
  },
  {
   "cell_type": "markdown",
   "metadata": {},
   "source": [
    "#### Curtosis\n",
    "* =0 Mesocúrtica Distribución perfecta, asemejada a la distribución normal en\n",
    "forma, no en valores. Está compensado tanto el centro como las colas.\n",
    "\n",
    "\n",
    "* mayor que 0 Leptocúrtica Distribución donde se le concentran mucho los datos en el\n",
    "valor central, y apenas tiene cola.\n",
    "\n",
    "\n",
    "* <0 Platicúrtica Distribución donde hay pocos valores que se concentren\n",
    "respecto al valor central (media) y hay muchos que aparecen hacia las colas,\n",
    "se concentran más en los laterales. Existe valor central, pero también hay\n",
    "mucha presencia de colas directamente en la distribución de nuestros datos.\n"
   ]
  },
  {
   "cell_type": "code",
   "execution_count": 28,
   "metadata": {},
   "outputs": [
    {
     "data": {
      "image/png": "[encoded data removed]",
      "text/plain": [
       "<IPython.core.display.Image object>"
      ]
     },
     "execution_count": 28,
     "metadata": {},
     "output_type": "execute_result"
    }
   ],
   "source": [
    "# Curtosis\n",
    "Image(filename=\"Imagenes/Asimetria/curtosis.png\")"
   ]
  },
  {
   "cell_type": "code",
   "execution_count": 31,
   "metadata": {},
   "outputs": [
    {
     "data": {
      "text/plain": [
       "-1.3067063196838213"
      ]
     },
     "execution_count": 31,
     "metadata": {},
     "output_type": "execute_result"
    }
   ],
   "source": [
    "# 4th Moment: Curtosis\n",
    "curtosis=sp.kurtosis(A)\n",
    "curtosis"
   ]
  },
  {
   "cell_type": "code",
   "execution_count": 32,
   "metadata": {},
   "outputs": [],
   "source": [
    "import matplotlib.pyplot as plt\n",
    "%matplotlib inline"
   ]
  },
  {
   "cell_type": "code",
   "execution_count": 34,
   "metadata": {},
   "outputs": [
    {
     "data": {
      "text/plain": [
       "(array([12., 12., 14.,  6., 10.,  5., 12.,  9.,  8., 12.]),\n",
       " array([ 13. , 111.6, 210.2, 308.8, 407.4, 506. , 604.6, 703.2, 801.8,\n",
       "        900.4, 999. ]),\n",
       " <a list of 10 Patch objects>)"
      ]
     },
     "execution_count": 34,
     "metadata": {},
     "output_type": "execute_result"
    },
    {
     "data": {
      "image/png": "[encoded data removed]",
      "text/plain": [
       "<Figure size 432x288 with 1 Axes>"
      ]
     },
     "metadata": {
      "needs_background": "light"
     },
     "output_type": "display_data"
    }
   ],
   "source": [
    "plt.hist(A)"
   ]
  },
  {
   "cell_type": "code",
   "execution_count": null,
   "metadata": {},
   "outputs": [],
   "source": []
  }
 ],
 "metadata": {
  "kernelspec": {
   "display_name": "Python 3",
   "language": "python",
   "name": "python3"
  },
  "language_info": {
   "codemirror_mode": {
    "name": "ipython",
    "version": 3
   },
   "file_extension": ".py",
   "mimetype": "text/x-python",
   "name": "python",
   "nbconvert_exporter": "python",
   "pygments_lexer": "ipython3",
   "version": "3.7.4"
  }
 },
 "nbformat": 4,
 "nbformat_minor": 2
}
